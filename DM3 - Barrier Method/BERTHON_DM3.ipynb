{
 "cells": [
  {
   "cell_type": "code",
   "execution_count": 177,
   "metadata": {},
   "outputs": [],
   "source": [
    "import numpy as np\n",
    "import pandas as pd\n",
    "from math import *\n",
    "\n",
    "import matplotlib.pyplot as plt\n",
    "\n",
    "import seaborn as sns\n",
    "plt.style.use('seaborn')\n",
    "\n",
    "log10 = lambda x: log(x, 10)\n",
    "\n",
    "sns.set(font_scale=1.3)"
   ]
  },
  {
   "cell_type": "code",
   "execution_count": 15,
   "metadata": {},
   "outputs": [],
   "source": [
    "def f0(v, Q, p):\n",
    "    return v.T.dot(Q).dot(v) + p.T.dot(v)\n",
    "\n",
    "def f(v, Q, p, b, A, t):\n",
    "    if min([b[i]-A[i].dot(v) for i in range(A.shape[0])]) <= 0:\n",
    "        return +1e10\n",
    "    else:\n",
    "        return t*v.T.dot(Q).dot(v) + t*p.T.dot(v) - sum([log(b[i]-A[i].dot(v)) for i in range(A.shape[0])])\n",
    "\n",
    "def grad_f(v, Q, p, b, A, t):\n",
    "    return 2*t*Q.dot(v) + t*p + np.sum([A[i]/(b[i]-A[i].dot(v)) for i in range(A.shape[0])], axis = 0)\n",
    "\n",
    "def grad2_f(v, Q, b, A, t):\n",
    "    sum_terms = [A[i].reshape(-1,1).dot(A[i].reshape(-1,1).T)/(b[i]-A[i].dot(v))**2 for i in range(A.shape[0])]\n",
    "    return 2*t*Q + np.sum(sum_terms, axis = 0)\n",
    "\n",
    "def admissible(v, A, b):\n",
    "    return min([b[i]-A[i].dot(v) for i in range(A.shape[0])]) >= 0"
   ]
  },
  {
   "cell_type": "markdown",
   "metadata": {},
   "source": [
    "# Centering Step"
   ]
  },
  {
   "cell_type": "code",
   "execution_count": 22,
   "metadata": {},
   "outputs": [],
   "source": [
    "def centering_step(Q, p, A, b, t, v, eps, alpha = 0.1, beta = 0.7):\n",
    "    f_v = lambda v : f(v, Q, p, b, A, t)\n",
    "    gf_v = lambda v : grad_f(v, Q, p, b, A, t)\n",
    "    g2f_v = lambda v : grad2_f(v, Q, b, A, t)\n",
    "    \n",
    "    G_f = gf_v(v)\n",
    "    G2_f = g2f_v(v)\n",
    "    \n",
    "    v_seq = [v]\n",
    "    \n",
    "    # Backtracking parameters\n",
    "    alpha = alpha\n",
    "    beta = beta\n",
    "\n",
    "    # Compute the decrement \n",
    "    get_lambda_2 = lambda G_f, G2_f : G_f.dot(np.linalg.inv(G2_f)).dot(G_f)\n",
    "    lambda_2 = get_lambda_2(G_f, G2_f)\n",
    "    while (lambda_2/2 > eps):\n",
    "        # Compute the direction \n",
    "        Dv_nt = -np.linalg.inv(G2_f).dot(G_f)\n",
    "\n",
    "        # Backtracking line search\n",
    "        s = 1\n",
    "        while (f_v(v+s*Dv_nt) > f_v(v) + alpha*s*gf_v(v).T.dot(Dv_nt)):\n",
    "            s = s*beta\n",
    "\n",
    "        v = v+s*Dv_nt\n",
    "        v_seq.append(v)\n",
    "\n",
    "        G_f = gf_v(v)\n",
    "        G2_f = g2f_v(v)\n",
    "        lambda_2 = get_lambda_2(G_f, G2_f)\n",
    "    return v_seq "
   ]
  },
  {
   "cell_type": "markdown",
   "metadata": {},
   "source": [
    "# Barrier Method"
   ]
  },
  {
   "cell_type": "code",
   "execution_count": 48,
   "metadata": {},
   "outputs": [],
   "source": [
    "def barr_method(Q, p, A, b, v0, eps, mu = 100, alpha = 0.1, beta = 0.7, t0 = 0.1):\n",
    "    assert (A.dot(v0) < b).all(), \"Error : v0 is no a feasible point !\"\n",
    "    # Initialize barrier coefficient\n",
    "    t = t0\n",
    "    m = len(b)//2\n",
    "    \n",
    "    v_seq = [v0]\n",
    "    centering_path = [v0]\n",
    "    \n",
    "    inner_iterations, outer_iterations = 0, 0\n",
    "    \n",
    "    centering = centering_step(Q, p, A, b, t, v0, eps, alpha, beta)\n",
    "    outer_iterations+=1\n",
    "    inner_iterations+=len(centering)\n",
    "\n",
    "    v = centering[-1]\n",
    "    v_seq.append(v)\n",
    "    while True:\n",
    "        if m/t < eps:\n",
    "            print(\"Finished in {} iterations\".format(len(v_seq)-1))\n",
    "            print(\"outer: \", outer_iterations)\n",
    "            print(\"inner: \", inner_iterations)\n",
    "            return v_seq, centering_path\n",
    "        t *= mu\n",
    "        centering = centering_step(Q, p, A, b, t, v, eps, alpha, beta)\n",
    "        outer_iterations+=1\n",
    "        inner_iterations+=len(centering)\n",
    "        \n",
    "        v = centering[-1]\n",
    "        v_seq.append(v)\n",
    "        centering_path += [v]*len(centering)"
   ]
  },
  {
   "cell_type": "markdown",
   "metadata": {},
   "source": [
    "# Barrier Method for various $\\mu$"
   ]
  },
  {
   "cell_type": "code",
   "execution_count": 156,
   "metadata": {},
   "outputs": [],
   "source": [
    "# Problem parameters\n",
    "n = 200\n",
    "m = 20\n",
    "X = np.random.random_sample(size=(n, m))\n",
    "#Y = np.random.random_sample(size=n)\n",
    "\n",
    "w0 = np.random.random_sample(size=m)\n",
    "Y = X.dot(w0) + np.random.normal(size=n)\n",
    "lda = 10\n",
    "\n",
    "# Dual parameters\n",
    "Q = 1/2*np.eye(n)\n",
    "p = Y\n",
    "A = np.vstack((X.T, -X.T))\n",
    "b = np.array([lda]*2*m)"
   ]
  },
  {
   "cell_type": "code",
   "execution_count": 157,
   "metadata": {
    "scrolled": true
   },
   "outputs": [
    {
     "name": "stdout",
     "output_type": "stream",
     "text": [
      "Finished in 26 iterations\n",
      "outer:  26\n",
      "inner:  130\n",
      "Finished in 12 iterations\n",
      "outer:  12\n",
      "inner:  70\n",
      "Finished in 8 iterations\n",
      "outer:  8\n",
      "inner:  60\n",
      "Finished in 6 iterations\n",
      "outer:  6\n",
      "inner:  49\n",
      "Finished in 5 iterations\n",
      "outer:  5\n",
      "inner:  46\n"
     ]
    }
   ],
   "source": [
    "eps = 1e-6\n",
    "mu_tab = [2, 5, 15, 50, 100]\n",
    "w_star_tab = []\n",
    "delta_f_tab = []\n",
    "\n",
    "f0_v = lambda v: f0(v, Q, p)\n",
    "\n",
    "for mu in mu_tab:\n",
    "    v = np.zeros(n)\n",
    "    v_seq, path = barr_method(Q, p, A, b, v, eps, mu, alpha=0.1, beta = 0.6, t0=1)\n",
    "    f_star = f0_v(v_seq[-1])\n",
    "    # Retreive w\n",
    "    w_star_tab.append(np.linalg.inv(X.T.dot(X)).dot(X.T).dot(v_seq[-1] + Y))\n",
    "    # Compute gap\n",
    "    delta = np.array(list(map(f0_v, path))) - f_star\n",
    "    delta = delta[delta > 0]\n",
    "    delta_f_tab.append(delta)"
   ]
  },
  {
   "cell_type": "code",
   "execution_count": 158,
   "metadata": {
    "scrolled": false
   },
   "outputs": [
    {
     "data": {
      "text/plain": [
       "<matplotlib.legend.Legend at 0x1a27a4fef0>"
      ]
     },
     "execution_count": 158,
     "metadata": {},
     "output_type": "execute_result"
    },
    {
     "data": {
      "image/png": "[encoded data removed]",
      "text/plain": [
       "<Figure size 720x576 with 1 Axes>"
      ]
     },
     "metadata": {
      "needs_background": "light"
     },
     "output_type": "display_data"
    }
   ],
   "source": [
    "plt.figure(figsize=(10, 8))\n",
    "plt.suptitle('Progress of the barrier method', size = 20)\n",
    "for i in range(len(mu_tab)):\n",
    "    plt.step(x = np.arange(0, len(delta_f_tab[i])),y=list(map(log10,delta_f_tab[i])), label = str(mu_tab[i]))\n",
    "plt.axhline(y=log10(eps),c='black', linestyle='--')\n",
    "plt.xlabel('Newton iterations', size = 20)\n",
    "plt.ylabel('log(f(vt)-f*)', size = 20)\n",
    "plt.legend(title='Mu')\n",
    "#plt.savefig('Figures/barrier.png')"
   ]
  },
  {
   "cell_type": "code",
   "execution_count": 159,
   "metadata": {},
   "outputs": [],
   "source": [
    "dt = pd.DataFrame({mu_tab[i]:w_star_tab[i] for i in range(len(mu_tab))})\n",
    "dt['Reference'] = pd.Series(w0)\n",
    "dt['Dimension'] = pd.Series(np.arange(m))\n",
    "dt = dt.melt(id_vars='Dimension', var_name='Mu', value_name='Value')"
   ]
  },
  {
   "cell_type": "code",
   "execution_count": 209,
   "metadata": {},
   "outputs": [
    {
     "data": {
      "image/png": "[encoded data removed]",
      "text/plain": [
       "<Figure size 792x504 with 1 Axes>"
      ]
     },
     "metadata": {},
     "output_type": "display_data"
    }
   ],
   "source": [
    "plt.figure(figsize=(11, 7))\n",
    "plt.title('w(µ) compared to a reference w', size = 20)\n",
    "sns.barplot(data=dt, hue='Mu', y='Value', x='Dimension', palette='deep')\n",
    "plt.legend(loc=(0.6, 0.6))\n",
    "plt.plot()\n",
    "plt.savefig('Figures/w.png')"
   ]
  },
  {
   "cell_type": "markdown",
   "metadata": {},
   "source": [
    "Make sure that the duality gap is null :"
   ]
  },
  {
   "cell_type": "code",
   "execution_count": 169,
   "metadata": {},
   "outputs": [
    {
     "name": "stdout",
     "output_type": "stream",
     "text": [
      "Duality gap:  1.8563488879408396e-07\n"
     ]
    }
   ],
   "source": [
    "f_lasso = lambda w: 1/2 * np.linalg.norm(X.dot(w) - Y)**2 + lda * np.linalg.norm(w, ord = 1)\n",
    "print('Duality gap: ', f_lasso(w_star_tab[-1]) + f0_v(v_seq[-1]))"
   ]
  }
 ],
 "metadata": {
  "kernelspec": {
   "display_name": "Python 3",
   "language": "python",
   "name": "python3"
  },
  "language_info": {
   "codemirror_mode": {
    "name": "ipython",
    "version": 3
   },
   "file_extension": ".py",
   "mimetype": "text/x-python",
   "name": "python",
   "nbconvert_exporter": "python",
   "pygments_lexer": "ipython3",
   "version": "3.7.0"
  }
 },
 "nbformat": 4,
 "nbformat_minor": 2
}
